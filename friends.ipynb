{
 "cells": [
  {
   "cell_type": "code",
   "execution_count": 10,
   "metadata": {},
   "outputs": [],
   "source": [
    "users =[\n",
    "    { \"id\":0, \"name\": \"Hero\" },\n",
    "    { \"id\":1, \"name\": \"Dunn\" },\n",
    "    { \"id\":2, \"name\": \"Sue\" },\n",
    "    { \"id\":3, \"name\": \"Chi\" },\n",
    "    { \"id\":4, \"name\": \"Thor\" },\n",
    "    { \"id\":5, \"name\": \"Clive\" },\n",
    "    { \"id\":6, \"name\": \"Hicks\" },\n",
    "    { \"id\":7, \"name\": \"Devin\" },\n",
    "    { \"id\":8, \"name\": \"Kate\" },\n",
    "    { \"id\":9, \"name\": \"Klein\" }    \n",
    "]\n",
    "\n",
    "friendship = [\n",
    "    (0, 1),\n",
    "    (0, 2),\n",
    "    (1, 2),\n",
    "    (1, 3),\n",
    "    (2, 3),\n",
    "    (3, 4),\n",
    "    (4, 5),\n",
    "    (5, 6),\n",
    "    (6, 7),\n",
    "    (6, 8),\n",
    "    (7, 8),\n",
    "    (8, 9)\n",
    "]\n"
   ]
  },
  {
   "cell_type": "code",
   "execution_count": 11,
   "metadata": {},
   "outputs": [],
   "source": [
    "def num_friends(user):\n",
    "    '''\n",
    "    Find number of friends for a given user\n",
    "    '''\n",
    "    count = 0\n",
    "    for friends in friendship:\n",
    "        if friends[0] == user['id'] or friends[1] == user['id']:\n",
    "            count += 1\n",
    "      \n",
    "    return count\n"
   ]
  },
  {
   "cell_type": "code",
   "execution_count": 12,
   "metadata": {},
   "outputs": [
    {
     "name": "stdout",
     "output_type": "stream",
     "text": [
      "Hero has 2 friend(s).\n",
      "Klein has 1 friend(s).\n"
     ]
    }
   ],
   "source": [
    "hero = users[0]\n",
    "print(\"{} has {} friend(s).\".format(hero['name'], num_friends(hero)))\n",
    "\n",
    "klein = users[-1]\n",
    "print(\"{} has {} friend(s).\".format(klein['name'], num_friends(klein)))"
   ]
  },
  {
   "cell_type": "code",
   "execution_count": 26,
   "metadata": {},
   "outputs": [],
   "source": [
    "def sort_by_num_friends():\n",
    "    '''README.md\n",
    "    Sort from \"most friends\" to \"least friends\"\n",
    "    '''\n",
    "    users_sorted = sorted(users,key=num_friends, reverse=True)\n",
    "    for user in users_sorted:\n",
    "        print(\"{} has {} friend(s).\".format(user['name'], num_friends(user)))"
   ]
  },
  {
   "cell_type": "code",
   "execution_count": 27,
   "metadata": {},
   "outputs": [
    {
     "name": "stdout",
     "output_type": "stream",
     "text": [
      "Dunn has 3 friend(s).\n",
      "Sue has 3 friend(s).\n",
      "Chi has 3 friend(s).\n",
      "Hicks has 3 friend(s).\n",
      "Kate has 3 friend(s).\n",
      "Hero has 2 friend(s).\n",
      "Thor has 2 friend(s).\n",
      "Clive has 2 friend(s).\n",
      "Devin has 2 friend(s).\n",
      "Klein has 1 friend(s).\n"
     ]
    }
   ],
   "source": [
    "sort_by_num_friends()"
   ]
  },
  {
   "cell_type": "code",
   "execution_count": null,
   "metadata": {},
   "outputs": [],
   "source": []
  }
 ],
 "metadata": {
  "kernelspec": {
   "display_name": "Python 3",
   "language": "python",
   "name": "python3"
  },
  "language_info": {
   "codemirror_mode": {
    "name": "ipython",
    "version": 3
   },
   "file_extension": ".py",
   "mimetype": "text/x-python",
   "name": "python",
   "nbconvert_exporter": "python",
   "pygments_lexer": "ipython3",
   "version": "3.7.0"
  }
 },
 "nbformat": 4,
 "nbformat_minor": 2
}
